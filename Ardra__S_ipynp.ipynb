{
  "nbformat": 4,
  "nbformat_minor": 0,
  "metadata": {
    "colab": {
      "name": "Ardra _S.ipynp",
      "provenance": [],
      "collapsed_sections": [],
      "authorship_tag": "ABX9TyNC7XdJXB5xxUo8Enk3D0Md",
      "include_colab_link": true
    },
    "kernelspec": {
      "name": "python3",
      "display_name": "Python 3"
    },
    "language_info": {
      "name": "python"
    }
  },
  "cells": [
    {
      "cell_type": "markdown",
      "metadata": {
        "id": "view-in-github",
        "colab_type": "text"
      },
      "source": [
        "<a href=\"https://colab.research.google.com/github/Ardra-dot/shapeai-python-and-deep-learning-_-7-days-hands-bootcamp/blob/main/Ardra__S_ipynp.ipynb\" target=\"_parent\"><img src=\"https://colab.research.google.com/assets/colab-badge.svg\" alt=\"Open In Colab\"/></a>"
      ]
    },
    {
      "cell_type": "code",
      "metadata": {
        "id": "7OTNHiYsU8jd",
        "colab": {
          "base_uri": "https://localhost:8080/"
        },
        "outputId": "f1d9a6f1-2baa-4410-9503-2ddd208ae377"
      },
      "source": [
        " \n",
        "from keras.datasets import mnist\n",
        " \n",
        "data=mnist.load_data()\n",
        " \n",
        "(x_train,y_train),(x_test,y_test)=data\n",
        " \n",
        "x_train[0].shape\n",
        " \n",
        "x_train=x_train.reshape((x_train.shape[0],28*28)).astype('float32')\n",
        " \n",
        "x_test=x_test.reshape((x_test.shape[0],28*28)).astype('float32')\n",
        " \n",
        "x_train=x_train/255\n",
        " \n",
        "x_test=x_test/255\n",
        " \n",
        "from keras.utils import np_utils\n",
        " \n",
        "print(y_test.shape)\n",
        " \n",
        "y_train=np_utils.to_categorical(y_train)\n",
        " \n",
        "y_test=np_utils.to_categorical(y_test)\n",
        " \n",
        "num_classes=y_test.shape[1]\n",
        " \n",
        "print(y_test.shape)\n",
        " \n",
        "from keras.models import Sequential\n",
        " \n",
        "from keras.layers import Dense\n",
        " \n",
        "model=Sequential()\n",
        " \n",
        "model.add(Dense(32,input_dim=28*28,activation='relu'))\n",
        " \n",
        "model.add(Dense(64,activation='relu'))\n",
        " \n",
        "model.add(Dense(10,activation='softmax'))\n",
        " \n",
        "model.compile(loss='categorical_crossentropy',optimizer='adam',metrics=['accuracy'])\n",
        " \n",
        "model.summary()\n",
        " \n",
        "model.fit(x_train,y_train,epochs=10,batch_size=100)\n",
        " \n",
        "scores=model.evaluate(x_test,y_test)\n",
        " \n",
        "print(scores)"
      ],
      "execution_count": null,
      "outputs": [
        {
          "output_type": "stream",
          "text": [
            "(10000,)\n",
            "(10000, 10)\n",
            "Model: \"sequential_2\"\n",
            "_________________________________________________________________\n",
            "Layer (type)                 Output Shape              Param #   \n",
            "=================================================================\n",
            "dense_6 (Dense)              (None, 32)                25120     \n",
            "_________________________________________________________________\n",
            "dense_7 (Dense)              (None, 64)                2112      \n",
            "_________________________________________________________________\n",
            "dense_8 (Dense)              (None, 10)                650       \n",
            "=================================================================\n",
            "Total params: 27,882\n",
            "Trainable params: 27,882\n",
            "Non-trainable params: 0\n",
            "_________________________________________________________________\n",
            "Epoch 1/10\n",
            "600/600 [==============================] - 2s 2ms/step - loss: 0.7736 - accuracy: 0.7708\n",
            "Epoch 2/10\n",
            "600/600 [==============================] - 1s 2ms/step - loss: 0.2162 - accuracy: 0.9370\n",
            "Epoch 3/10\n",
            "600/600 [==============================] - 2s 3ms/step - loss: 0.1621 - accuracy: 0.9535\n",
            "Epoch 4/10\n",
            "600/600 [==============================] - 1s 2ms/step - loss: 0.1296 - accuracy: 0.9624\n",
            "Epoch 5/10\n",
            "600/600 [==============================] - 2s 3ms/step - loss: 0.1099 - accuracy: 0.9664\n",
            "Epoch 6/10\n",
            "600/600 [==============================] - 2s 2ms/step - loss: 0.1004 - accuracy: 0.9697\n",
            "Epoch 7/10\n",
            "600/600 [==============================] - 2s 3ms/step - loss: 0.0859 - accuracy: 0.9729\n",
            "Epoch 8/10\n",
            "600/600 [==============================] - 1s 2ms/step - loss: 0.0796 - accuracy: 0.9762\n",
            "Epoch 9/10\n",
            "600/600 [==============================] - 1s 2ms/step - loss: 0.0713 - accuracy: 0.9788\n",
            "Epoch 10/10\n",
            "600/600 [==============================] - 2s 3ms/step - loss: 0.0648 - accuracy: 0.9800\n",
            "313/313 [==============================] - 0s 1ms/step - loss: 0.1046 - accuracy: 0.9688\n",
            "[0.10457094758749008, 0.9688000082969666]\n"
          ],
          "name": "stdout"
        }
      ]
    }
  ]
}